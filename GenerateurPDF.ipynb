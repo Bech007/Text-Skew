{
  "nbformat": 4,
  "nbformat_minor": 0,
  "metadata": {
    "colab": {
      "name": "GenerateurPDF.ipynb",
      "version": "0.3.2",
      "provenance": [],
      "include_colab_link": true
    },
    "kernelspec": {
      "name": "python3",
      "display_name": "Python 3"
    }
  },
  "cells": [
    {
      "cell_type": "markdown",
      "metadata": {
        "id": "view-in-github",
        "colab_type": "text"
      },
      "source": [
        "<a href=\"https://colab.research.google.com/github/Bech007/Text-Skew/blob/master/GenerateurPDF.ipynb\" target=\"_parent\"><img src=\"https://colab.research.google.com/assets/colab-badge.svg\" alt=\"Open In Colab\"/></a>"
      ]
    },
    {
      "cell_type": "code",
      "metadata": {
        "id": "Dft9H6COOyT2",
        "colab_type": "code",
        "outputId": "22df4cf6-3385-43fb-bcf3-5c7a140611f9",
        "colab": {
          "base_uri": "https://localhost:8080/",
          "height": 122
        }
      },
      "source": [
        "from google.colab import drive\n",
        "from pathlib import Path\n",
        "\n",
        " \n",
        "\n",
        "drive.mount('/content/drive')\n",
        "root_path = Path('/content/drive/My Drive/')"
      ],
      "execution_count": 11,
      "outputs": [
        {
          "output_type": "stream",
          "text": [
            "Go to this URL in a browser: https://accounts.google.com/o/oauth2/auth?client_id=947318989803-6bn6qk8qdgf4n4g3pfee6491hc0brc4i.apps.googleusercontent.com&redirect_uri=urn%3Aietf%3Awg%3Aoauth%3A2.0%3Aoob&scope=email%20https%3A%2F%2Fwww.googleapis.com%2Fauth%2Fdocs.test%20https%3A%2F%2Fwww.googleapis.com%2Fauth%2Fdrive%20https%3A%2F%2Fwww.googleapis.com%2Fauth%2Fdrive.photos.readonly%20https%3A%2F%2Fwww.googleapis.com%2Fauth%2Fpeopleapi.readonly&response_type=code\n",
            "\n",
            "Enter your authorization code:\n",
            "··········\n",
            "Mounted at /content/drive\n"
          ],
          "name": "stdout"
        }
      ]
    },
    {
      "cell_type": "code",
      "metadata": {
        "id": "w-yN_KYNvtav",
        "colab_type": "code",
        "outputId": "c4f183f0-57dd-43bb-e597-9a7202fefee8",
        "colab": {
          "base_uri": "https://localhost:8080/",
          "height": 68
        }
      },
      "source": [
        "!pip install pdf2image"
      ],
      "execution_count": 6,
      "outputs": [
        {
          "output_type": "stream",
          "text": [
            "Requirement already satisfied: pdf2image in /usr/local/lib/python3.6/dist-packages (1.6.0)\n",
            "Requirement already satisfied: pillow in /usr/local/lib/python3.6/dist-packages (from pdf2image) (4.3.0)\n",
            "Requirement already satisfied: olefile in /usr/local/lib/python3.6/dist-packages (from pillow->pdf2image) (0.46)\n"
          ],
          "name": "stdout"
        }
      ]
    },
    {
      "cell_type": "code",
      "metadata": {
        "id": "cjVuDzsQeW3c",
        "colab_type": "code",
        "colab": {}
      },
      "source": [
        "import cv2\n",
        "import pandas as pd\n",
        "import numpy as np\n",
        "from fpdf import FPDF\n",
        "import random\n",
        "from datetime import date\n",
        "from datetime import timedelta\n",
        "import time\n",
        "import datetime\n",
        "import string"
      ],
      "execution_count": 0,
      "outputs": []
    },
    {
      "cell_type": "code",
      "metadata": {
        "id": "wAr_WCPwO8vR",
        "colab_type": "code",
        "colab": {}
      },
      "source": [
        "def randomString(stringLength=10):\n",
        "    \"\"\"Generate a random string of fixed length \"\"\"\n",
        "    letters = string.digits\n",
        "    return ''.join(random.choice(letters) for i in range(stringLength))"
      ],
      "execution_count": 0,
      "outputs": []
    },
    {
      "cell_type": "code",
      "metadata": {
        "id": "uRqGmy9mfK-0",
        "colab_type": "code",
        "colab": {}
      },
      "source": [
        "dir ='/content/drive/My Drive/PFE Bechir (Rec Doc)/Data/DatasetPDF/'\n",
        "def gen(itr):\n",
        "    \n",
        "    data  = pd.read_csv(\"/content/drive/My Drive/PFE Bechir (Rec Doc)/Data/carte-des-pharmacies-de-paris.csv\", sep=';')\n",
        "    data1 = pd.read_csv(\"/content/drive/My Drive/PFE Bechir (Rec Doc)/Data/medica.csv\", sep=',')\n",
        "    data2 = pd.read_csv(\"/content/drive/My Drive/PFE Bechir (Rec Doc)/Data/data-medecins.csv\", sep=';')\n",
        "    data[\"numvoie\"] = pd.to_numeric(data[\"numvoie\"])\n",
        "    data['telephone']= pd.to_numeric(data['telephone'])\n",
        "    data['adress']= data[\"numvoie\"].astype(str)+\" \"+ data['typvoie'].astype(str) +\" DU \"+data['voie']\n",
        "    data['commune']= data[\"cp\"].astype(str)+\" \"+ data['commune']\n",
        "    data2['NomMedecin']= data2[\"Nom du médecin\"]+\" \"+ data2['Prénom du médecin']\n",
        "    nom_pharmacie=list(data['rs'])\n",
        "    commune=list(data['commune'])\n",
        "    NomMedecin = list(data2['NomMedecin'])\n",
        "    tel=list(data['telephone'].map(str))\n",
        "    adresse=list(data['adress'])\n",
        "    CodeMedic = list(data1['CODE'])\n",
        "    res1 = [str(i)for i in CodeMedic]\n",
        "    res1\n",
        "    NomMedic=list(data1['NOM'])\n",
        "    PrixMedic=list(data1['PRIX_BR'])\n",
        "    TR=list(data1['TAUX_REMBOURSEMENT'])\n",
        "    for i in range(len(adresse)) :\n",
        "        adresse[i] = adresse[i].replace('.0', '')\n",
        "\n",
        "    for i in range(len(tel)) :\n",
        "        tel[i] = tel[i].replace('.0', '')\n",
        "\n",
        "\n",
        "    n_rows = 1\n",
        "    start_time = \"01/01/2000\"\n",
        "    end_time = \"31/12/2019\"\n",
        "\n",
        "    date2int = lambda s: time.mktime(datetime.datetime.strptime(s,\"%d/%m/%Y\").timetuple())\n",
        "    int2date = lambda s: datetime.datetime.fromtimestamp(s).strftime('%d/%m/%Y')\n",
        "\n",
        "    start_time = date2int(start_time)\n",
        "    end_time = date2int(end_time)\n",
        "    random_ints = np.random.randint(low=start_time, high=end_time, size=(n_rows,1))\n",
        "    random_dates = np.apply_along_axis(int2date, 1, random_ints).reshape(n_rows,1)\n",
        "\n",
        "    res=str(random_dates)\n",
        "    res=res.replace(\"[['\",\"\")\n",
        "    res = res.replace(\"']]\",\"\")\n",
        "    #####\n",
        "    res\n",
        "\n",
        "    qte= ['1','2','3','4']\n",
        "    A=['X','T','E']\n",
        "    monpdf= FPDF(orientation='P', unit='mm', format='A4')\n",
        "    monpdf.add_page()\n",
        "    monpdf.set_font(\"Courier\", size=5)\n",
        "    monpdf.cell(200,2,txt=random.choice(nom_pharmacie)+\"              \"+\"NumFact  :\"+\"   \" +randomString(stringLength=6), ln=1, align =\"L\")\n",
        "    monpdf.cell(200,2,txt=random.choice(adresse)+\"                \"+\"Date Fact:\"+\"  \"+res, ln=1, align =\"L\")\n",
        "    monpdf.cell(200,2,txt=random.choice(commune)+\"                             \"+\"Date Ord :\"+\"  \"+res, ln=1, align =\"L\")\n",
        "    monpdf.cell(200,2,txt=random.choice(tel)+\"             \"+\"Medicin :\"+\" \"+random.choice(NomMedecin), ln=1, align =\"L\")\n",
        "    monpdf.cell(200,2,txt=\"TEL :\"+\" 0\"+random.choice(tel)+\"    \"+\"Code OP :\"+randomString(stringLength=2), ln=1, align =\"L\")\n",
        "    monpdf.cell(200,2,txt=\"INSEE:\"+randomString(stringLength=15)+\"       \"+\"Malade: \"+random.choice(A), ln=1, align =\"L\")\n",
        "    monpdf.cell(200,2,txt=random.choice(adresse)+\"      \"+random.choice(commune), ln=1, align =\"L\")\n",
        "    monpdf.cell(200,2,txt=random.choice(A), ln=1, align =\"L\")\n",
        "\n",
        "    data = [['QTE', 'Designation', 'CIP', 'Prix/U','BaseSS','HD','TxSS'],\n",
        "            [random.choice(qte), random.choice(NomMedic), random.choice(res1), random.choice(PrixMedic),'-','1,02',random.choice(TR)],\n",
        "            [random.choice(qte), random.choice(NomMedic), random.choice(res1), random.choice(PrixMedic),'-','1,02',random.choice(TR)],\n",
        "            [random.choice(qte), random.choice(NomMedic), random.choice(res1), random.choice(PrixMedic),'-','1,02',random.choice(TR)]\n",
        "            ]\n",
        "    sizes=[0,0,0,0,0,0,0]\n",
        "    for row in data:\n",
        "      for j in range(len(row)):\n",
        "        if (len(row[j])>sizes[j]):\n",
        "          sizes[j]=len(row[j])\n",
        "\n",
        "    spacing=2\n",
        "\n",
        "\n",
        "    row_height = monpdf.font_size\n",
        "    for row in data:\n",
        "        for indice,item in enumerate(row):\n",
        "            monpdf.cell(sizes[indice] +2, row_height*spacing,\n",
        "                        txt=item, border=0, align=\"L\")\n",
        "        monpdf.ln(row_height*spacing)\n",
        "\n",
        "\n",
        "    monpdf.cell(200,2,txt=\"Ces montants s'entendent avant application, le cas échéant,\", ln=1, align =\"L\")\n",
        "    monpdf.cell(200,2,txt=\"de la franchise prévue à l'article L. 322­2 du code de la \",ln=1 , align=\"L\")\n",
        "    monpdf.cell(200,2,txt=\"sécurité sociale et indiquée sur le relevé de prestations.\",ln=1 , align=\"L\")\n",
        "    monpdf.output(dir+'f'+str(itr)+'.pdf')\n",
        "    print('f'+str(itr)+'.pdf')\n",
        "    return data\n"
      ],
      "execution_count": 0,
      "outputs": []
    },
    {
      "cell_type": "code",
      "metadata": {
        "id": "izCPIfULSxAD",
        "colab_type": "code",
        "colab": {
          "base_uri": "https://localhost:8080/",
          "height": 1000
        },
        "outputId": "fa24a251-21e9-4e3d-a820-6e8fe57b5224"
      },
      "source": [
        "u = 0\n",
        "for i in range (300,401):\n",
        "    u = gen(i)"
      ],
      "execution_count": 13,
      "outputs": [
        {
          "output_type": "stream",
          "text": [
            "f300.pdf\n",
            "f301.pdf\n",
            "f302.pdf\n",
            "f303.pdf\n",
            "f304.pdf\n",
            "f305.pdf\n",
            "f306.pdf\n",
            "f307.pdf\n",
            "f308.pdf\n",
            "f309.pdf\n",
            "f310.pdf\n",
            "f311.pdf\n",
            "f312.pdf\n",
            "f313.pdf\n",
            "f314.pdf\n",
            "f315.pdf\n",
            "f316.pdf\n",
            "f317.pdf\n",
            "f318.pdf\n",
            "f319.pdf\n",
            "f320.pdf\n",
            "f321.pdf\n",
            "f322.pdf\n",
            "f323.pdf\n",
            "f324.pdf\n",
            "f325.pdf\n",
            "f326.pdf\n",
            "f327.pdf\n",
            "f328.pdf\n",
            "f329.pdf\n",
            "f330.pdf\n",
            "f331.pdf\n",
            "f332.pdf\n",
            "f333.pdf\n",
            "f334.pdf\n",
            "f335.pdf\n",
            "f336.pdf\n",
            "f337.pdf\n",
            "f338.pdf\n",
            "f339.pdf\n",
            "f340.pdf\n",
            "f341.pdf\n",
            "f342.pdf\n",
            "f343.pdf\n",
            "f344.pdf\n",
            "f345.pdf\n",
            "f346.pdf\n",
            "f347.pdf\n",
            "f348.pdf\n",
            "f349.pdf\n",
            "f350.pdf\n",
            "f351.pdf\n",
            "f352.pdf\n",
            "f353.pdf\n",
            "f354.pdf\n",
            "f355.pdf\n",
            "f356.pdf\n",
            "f357.pdf\n",
            "f358.pdf\n",
            "f359.pdf\n",
            "f360.pdf\n",
            "f361.pdf\n",
            "f362.pdf\n",
            "f363.pdf\n",
            "f364.pdf\n",
            "f365.pdf\n",
            "f366.pdf\n",
            "f367.pdf\n",
            "f368.pdf\n",
            "f369.pdf\n",
            "f370.pdf\n",
            "f371.pdf\n",
            "f372.pdf\n",
            "f373.pdf\n",
            "f374.pdf\n",
            "f375.pdf\n",
            "f376.pdf\n",
            "f377.pdf\n",
            "f378.pdf\n",
            "f379.pdf\n",
            "f380.pdf\n",
            "f381.pdf\n",
            "f382.pdf\n",
            "f383.pdf\n",
            "f384.pdf\n",
            "f385.pdf\n",
            "f386.pdf\n",
            "f387.pdf\n",
            "f388.pdf\n",
            "f389.pdf\n",
            "f390.pdf\n",
            "f391.pdf\n",
            "f392.pdf\n",
            "f393.pdf\n",
            "f394.pdf\n",
            "f395.pdf\n",
            "f396.pdf\n",
            "f397.pdf\n",
            "f398.pdf\n",
            "f399.pdf\n",
            "f400.pdf\n"
          ],
          "name": "stdout"
        }
      ]
    },
    {
      "cell_type": "code",
      "metadata": {
        "id": "oMQmRVp2T1Yn",
        "colab_type": "code",
        "outputId": "4ec5c2ef-deb6-4eb2-c301-64f02e6c8d9d",
        "colab": {
          "base_uri": "https://localhost:8080/",
          "height": 425
        }
      },
      "source": [
        "import os\n",
        "from pdf2image import convert_from_path\n",
        "pdf_dir = r\"/content/drive/My Drive/PFE Bechir (Rec Doc)/Data/DatasetPDF/\"\n",
        "out_dir =\"/content/drive/My Drive/PFE Bechir (Rec Doc)/Data/DatasetIMG/\"\n",
        "os.chdir(pdf_dir)\n",
        "for pdf_file in os.listdir(pdf_dir):\n",
        "  if pdf_file.endswith(\".pdf\"):\n",
        "    pages = convert_from_path(pdf_file, 300)\n",
        "    pdf_file = pdf_file[:-4]\n",
        "    for page in pages:\n",
        "      page.save(\"/content/drive/My Drive/PFE Bechir (Rec Doc)/Data/DatasetIMG/\"+\".jpg\", \"JPEG\")"
      ],
      "execution_count": 15,
      "outputs": [
        {
          "output_type": "error",
          "ename": "PDFInfoNotInstalledError",
          "evalue": "ignored",
          "traceback": [
            "\u001b[0;31m---------------------------------------------------------------------------\u001b[0m",
            "\u001b[0;31mFileNotFoundError\u001b[0m                         Traceback (most recent call last)",
            "\u001b[0;32m/usr/local/lib/python3.6/dist-packages/pdf2image/pdf2image.py\u001b[0m in \u001b[0;36m_page_count\u001b[0;34m(pdf_path, userpw, poppler_path)\u001b[0m\n\u001b[1;32m    239\u001b[0m             \u001b[0menv\u001b[0m\u001b[0;34m[\u001b[0m\u001b[0;34m\"LD_LIBRARY_PATH\"\u001b[0m\u001b[0;34m]\u001b[0m \u001b[0;34m=\u001b[0m \u001b[0mpoppler_path\u001b[0m \u001b[0;34m+\u001b[0m \u001b[0;34m\":\"\u001b[0m \u001b[0;34m+\u001b[0m \u001b[0menv\u001b[0m\u001b[0;34m.\u001b[0m\u001b[0mget\u001b[0m\u001b[0;34m(\u001b[0m\u001b[0;34m\"LD_LIBRARY_PATH\"\u001b[0m\u001b[0;34m,\u001b[0m \u001b[0;34m\"\"\u001b[0m\u001b[0;34m)\u001b[0m\u001b[0;34m\u001b[0m\u001b[0;34m\u001b[0m\u001b[0m\n\u001b[0;32m--> 240\u001b[0;31m         \u001b[0mproc\u001b[0m \u001b[0;34m=\u001b[0m \u001b[0mPopen\u001b[0m\u001b[0;34m(\u001b[0m\u001b[0mcommand\u001b[0m\u001b[0;34m,\u001b[0m \u001b[0menv\u001b[0m\u001b[0;34m=\u001b[0m\u001b[0menv\u001b[0m\u001b[0;34m,\u001b[0m \u001b[0mstdout\u001b[0m\u001b[0;34m=\u001b[0m\u001b[0mPIPE\u001b[0m\u001b[0;34m,\u001b[0m \u001b[0mstderr\u001b[0m\u001b[0;34m=\u001b[0m\u001b[0mPIPE\u001b[0m\u001b[0;34m)\u001b[0m\u001b[0;34m\u001b[0m\u001b[0;34m\u001b[0m\u001b[0m\n\u001b[0m\u001b[1;32m    241\u001b[0m \u001b[0;34m\u001b[0m\u001b[0m\n",
            "\u001b[0;32m/usr/lib/python3.6/subprocess.py\u001b[0m in \u001b[0;36m__init__\u001b[0;34m(self, args, bufsize, executable, stdin, stdout, stderr, preexec_fn, close_fds, shell, cwd, env, universal_newlines, startupinfo, creationflags, restore_signals, start_new_session, pass_fds, encoding, errors)\u001b[0m\n\u001b[1;32m    728\u001b[0m                                 \u001b[0merrread\u001b[0m\u001b[0;34m,\u001b[0m \u001b[0merrwrite\u001b[0m\u001b[0;34m,\u001b[0m\u001b[0;34m\u001b[0m\u001b[0;34m\u001b[0m\u001b[0m\n\u001b[0;32m--> 729\u001b[0;31m                                 restore_signals, start_new_session)\n\u001b[0m\u001b[1;32m    730\u001b[0m         \u001b[0;32mexcept\u001b[0m\u001b[0;34m:\u001b[0m\u001b[0;34m\u001b[0m\u001b[0;34m\u001b[0m\u001b[0m\n",
            "\u001b[0;32m/usr/lib/python3.6/subprocess.py\u001b[0m in \u001b[0;36m_execute_child\u001b[0;34m(self, args, executable, preexec_fn, close_fds, pass_fds, cwd, env, startupinfo, creationflags, shell, p2cread, p2cwrite, c2pread, c2pwrite, errread, errwrite, restore_signals, start_new_session)\u001b[0m\n\u001b[1;32m   1363\u001b[0m                             \u001b[0merr_msg\u001b[0m \u001b[0;34m+=\u001b[0m \u001b[0;34m': '\u001b[0m \u001b[0;34m+\u001b[0m \u001b[0mrepr\u001b[0m\u001b[0;34m(\u001b[0m\u001b[0merr_filename\u001b[0m\u001b[0;34m)\u001b[0m\u001b[0;34m\u001b[0m\u001b[0;34m\u001b[0m\u001b[0m\n\u001b[0;32m-> 1364\u001b[0;31m                     \u001b[0;32mraise\u001b[0m \u001b[0mchild_exception_type\u001b[0m\u001b[0;34m(\u001b[0m\u001b[0merrno_num\u001b[0m\u001b[0;34m,\u001b[0m \u001b[0merr_msg\u001b[0m\u001b[0;34m,\u001b[0m \u001b[0merr_filename\u001b[0m\u001b[0;34m)\u001b[0m\u001b[0;34m\u001b[0m\u001b[0;34m\u001b[0m\u001b[0m\n\u001b[0m\u001b[1;32m   1365\u001b[0m                 \u001b[0;32mraise\u001b[0m \u001b[0mchild_exception_type\u001b[0m\u001b[0;34m(\u001b[0m\u001b[0merr_msg\u001b[0m\u001b[0;34m)\u001b[0m\u001b[0;34m\u001b[0m\u001b[0;34m\u001b[0m\u001b[0m\n",
            "\u001b[0;31mFileNotFoundError\u001b[0m: [Errno 2] No such file or directory: 'pdfinfo': 'pdfinfo'",
            "\nDuring handling of the above exception, another exception occurred:\n",
            "\u001b[0;31mPDFInfoNotInstalledError\u001b[0m                  Traceback (most recent call last)",
            "\u001b[0;32m<ipython-input-15-323755f42cc1>\u001b[0m in \u001b[0;36m<module>\u001b[0;34m()\u001b[0m\n\u001b[1;32m      6\u001b[0m \u001b[0;32mfor\u001b[0m \u001b[0mpdf_file\u001b[0m \u001b[0;32min\u001b[0m \u001b[0mos\u001b[0m\u001b[0;34m.\u001b[0m\u001b[0mlistdir\u001b[0m\u001b[0;34m(\u001b[0m\u001b[0mpdf_dir\u001b[0m\u001b[0;34m)\u001b[0m\u001b[0;34m:\u001b[0m\u001b[0;34m\u001b[0m\u001b[0;34m\u001b[0m\u001b[0m\n\u001b[1;32m      7\u001b[0m   \u001b[0;32mif\u001b[0m \u001b[0mpdf_file\u001b[0m\u001b[0;34m.\u001b[0m\u001b[0mendswith\u001b[0m\u001b[0;34m(\u001b[0m\u001b[0;34m\".pdf\"\u001b[0m\u001b[0;34m)\u001b[0m\u001b[0;34m:\u001b[0m\u001b[0;34m\u001b[0m\u001b[0;34m\u001b[0m\u001b[0m\n\u001b[0;32m----> 8\u001b[0;31m     \u001b[0mpages\u001b[0m \u001b[0;34m=\u001b[0m \u001b[0mconvert_from_path\u001b[0m\u001b[0;34m(\u001b[0m\u001b[0mpdf_file\u001b[0m\u001b[0;34m,\u001b[0m \u001b[0;36m300\u001b[0m\u001b[0;34m)\u001b[0m\u001b[0;34m\u001b[0m\u001b[0;34m\u001b[0m\u001b[0m\n\u001b[0m\u001b[1;32m      9\u001b[0m     \u001b[0mpdf_file\u001b[0m \u001b[0;34m=\u001b[0m \u001b[0mpdf_file\u001b[0m\u001b[0;34m[\u001b[0m\u001b[0;34m:\u001b[0m\u001b[0;34m-\u001b[0m\u001b[0;36m4\u001b[0m\u001b[0;34m]\u001b[0m\u001b[0;34m\u001b[0m\u001b[0;34m\u001b[0m\u001b[0m\n\u001b[1;32m     10\u001b[0m     \u001b[0;32mfor\u001b[0m \u001b[0mpage\u001b[0m \u001b[0;32min\u001b[0m \u001b[0mpages\u001b[0m\u001b[0;34m:\u001b[0m\u001b[0;34m\u001b[0m\u001b[0;34m\u001b[0m\u001b[0m\n",
            "\u001b[0;32m/usr/local/lib/python3.6/dist-packages/pdf2image/pdf2image.py\u001b[0m in \u001b[0;36mconvert_from_path\u001b[0;34m(pdf_path, dpi, output_folder, first_page, last_page, fmt, thread_count, userpw, use_cropbox, strict, transparent, single_file, output_file, poppler_path)\u001b[0m\n\u001b[1;32m     52\u001b[0m     \"\"\"\n\u001b[1;32m     53\u001b[0m \u001b[0;34m\u001b[0m\u001b[0m\n\u001b[0;32m---> 54\u001b[0;31m     \u001b[0mpage_count\u001b[0m \u001b[0;34m=\u001b[0m \u001b[0m_page_count\u001b[0m\u001b[0;34m(\u001b[0m\u001b[0mpdf_path\u001b[0m\u001b[0;34m,\u001b[0m \u001b[0muserpw\u001b[0m\u001b[0;34m,\u001b[0m \u001b[0mpoppler_path\u001b[0m\u001b[0;34m=\u001b[0m\u001b[0mpoppler_path\u001b[0m\u001b[0;34m)\u001b[0m\u001b[0;34m\u001b[0m\u001b[0;34m\u001b[0m\u001b[0m\n\u001b[0m\u001b[1;32m     55\u001b[0m \u001b[0;34m\u001b[0m\u001b[0m\n\u001b[1;32m     56\u001b[0m     \u001b[0;31m# We start by getting the output format, the buffer processing function and if we need pdftocairo\u001b[0m\u001b[0;34m\u001b[0m\u001b[0;34m\u001b[0m\u001b[0;34m\u001b[0m\u001b[0m\n",
            "\u001b[0;32m/usr/local/lib/python3.6/dist-packages/pdf2image/pdf2image.py\u001b[0m in \u001b[0;36m_page_count\u001b[0;34m(pdf_path, userpw, poppler_path)\u001b[0m\n\u001b[1;32m    242\u001b[0m         \u001b[0mout\u001b[0m\u001b[0;34m,\u001b[0m \u001b[0merr\u001b[0m \u001b[0;34m=\u001b[0m \u001b[0mproc\u001b[0m\u001b[0;34m.\u001b[0m\u001b[0mcommunicate\u001b[0m\u001b[0;34m(\u001b[0m\u001b[0;34m)\u001b[0m\u001b[0;34m\u001b[0m\u001b[0;34m\u001b[0m\u001b[0m\n\u001b[1;32m    243\u001b[0m     \u001b[0;32mexcept\u001b[0m\u001b[0;34m:\u001b[0m\u001b[0;34m\u001b[0m\u001b[0;34m\u001b[0m\u001b[0m\n\u001b[0;32m--> 244\u001b[0;31m         \u001b[0;32mraise\u001b[0m \u001b[0mPDFInfoNotInstalledError\u001b[0m\u001b[0;34m(\u001b[0m\u001b[0;34m'Unable to get page count. Is poppler installed and in PATH?'\u001b[0m\u001b[0;34m)\u001b[0m\u001b[0;34m\u001b[0m\u001b[0;34m\u001b[0m\u001b[0m\n\u001b[0m\u001b[1;32m    245\u001b[0m \u001b[0;34m\u001b[0m\u001b[0m\n\u001b[1;32m    246\u001b[0m     \u001b[0;32mtry\u001b[0m\u001b[0;34m:\u001b[0m\u001b[0;34m\u001b[0m\u001b[0;34m\u001b[0m\u001b[0m\n",
            "\u001b[0;31mPDFInfoNotInstalledError\u001b[0m: Unable to get page count. Is poppler installed and in PATH?"
          ]
        }
      ]
    },
    {
      "cell_type": "code",
      "metadata": {
        "id": "6EBBGg8Gm-AM",
        "colab_type": "code",
        "colab": {}
      },
      "source": [
        ""
      ],
      "execution_count": 0,
      "outputs": []
    }
  ]
}