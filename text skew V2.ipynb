{
 "cells": [
  {
   "cell_type": "code",
   "execution_count": 1,
   "metadata": {},
   "outputs": [
    {
     "ename": "AttributeError",
     "evalue": "'int' object has no attribute 'shape'",
     "output_type": "error",
     "traceback": [
      "\u001b[1;31m---------------------------------------------------------------------------\u001b[0m",
      "\u001b[1;31mAttributeError\u001b[0m                            Traceback (most recent call last)",
      "\u001b[1;32m<ipython-input-1-1c29eff1ad85>\u001b[0m in \u001b[0;36m<module>\u001b[1;34m\u001b[0m\n\u001b[0;32m     45\u001b[0m \u001b[1;33m\u001b[0m\u001b[0m\n\u001b[0;32m     46\u001b[0m \u001b[1;33m\u001b[0m\u001b[0m\n\u001b[1;32m---> 47\u001b[1;33m \u001b[0mdeskewed_image\u001b[0m \u001b[1;33m=\u001b[0m \u001b[0mdeskew\u001b[0m\u001b[1;33m(\u001b[0m\u001b[0mimg\u001b[0m\u001b[1;33m.\u001b[0m\u001b[0mcopy\u001b[0m\u001b[1;33m(\u001b[0m\u001b[1;33m)\u001b[0m\u001b[1;33m,\u001b[0m \u001b[0mcompute_skew\u001b[0m\u001b[1;33m(\u001b[0m\u001b[0mimg\u001b[0m\u001b[1;33m)\u001b[0m\u001b[1;33m)\u001b[0m\u001b[1;33m\u001b[0m\u001b[1;33m\u001b[0m\u001b[0m\n\u001b[0m\u001b[0;32m     48\u001b[0m \u001b[1;33m\u001b[0m\u001b[0m\n\u001b[0;32m     49\u001b[0m \u001b[0mcv2\u001b[0m\u001b[1;33m.\u001b[0m\u001b[0mimshow\u001b[0m\u001b[1;33m(\u001b[0m\u001b[1;34m'original'\u001b[0m\u001b[1;33m,\u001b[0m \u001b[0mimg\u001b[0m\u001b[1;33m)\u001b[0m\u001b[1;33m\u001b[0m\u001b[1;33m\u001b[0m\u001b[0m\n",
      "\u001b[1;32m<ipython-input-1-1c29eff1ad85>\u001b[0m in \u001b[0;36mcompute_skew\u001b[1;34m(image)\u001b[0m\n\u001b[0;32m     16\u001b[0m     \u001b[1;31m# nlines = lines.size\u001b[0m\u001b[1;33m\u001b[0m\u001b[1;33m\u001b[0m\u001b[1;33m\u001b[0m\u001b[0m\n\u001b[0;32m     17\u001b[0m     \u001b[1;31m# so now, I only use the number of lines\u001b[0m\u001b[1;33m\u001b[0m\u001b[1;33m\u001b[0m\u001b[1;33m\u001b[0m\u001b[0m\n\u001b[1;32m---> 18\u001b[1;33m     \u001b[0mnlines\u001b[0m \u001b[1;33m=\u001b[0m \u001b[0mlines\u001b[0m\u001b[1;33m.\u001b[0m\u001b[0msize\u001b[0m\u001b[1;33m.\u001b[0m\u001b[0mshape\u001b[0m\u001b[1;33m[\u001b[0m\u001b[1;36m0\u001b[0m\u001b[1;33m]\u001b[0m\u001b[1;33m\u001b[0m\u001b[1;33m\u001b[0m\u001b[0m\n\u001b[0m\u001b[0;32m     19\u001b[0m     \u001b[1;31m# this reshape was necessary in order to convert the shape from (n_lines,1,4) to (n_lines,4)\u001b[0m\u001b[1;33m\u001b[0m\u001b[1;33m\u001b[0m\u001b[1;33m\u001b[0m\u001b[0m\n\u001b[0;32m     20\u001b[0m     \u001b[0mlines\u001b[0m \u001b[1;33m=\u001b[0m \u001b[0mlines\u001b[0m\u001b[1;33m.\u001b[0m\u001b[0mreshape\u001b[0m\u001b[1;33m(\u001b[0m\u001b[0mlines\u001b[0m\u001b[1;33m.\u001b[0m\u001b[0mshape\u001b[0m\u001b[1;33m[\u001b[0m\u001b[1;36m0\u001b[0m\u001b[1;33m]\u001b[0m\u001b[1;33m,\u001b[0m \u001b[1;36m4\u001b[0m\u001b[1;33m)\u001b[0m\u001b[1;33m\u001b[0m\u001b[1;33m\u001b[0m\u001b[0m\n",
      "\u001b[1;31mAttributeError\u001b[0m: 'int' object has no attribute 'shape'"
     ]
    }
   ],
   "source": [
    "import cv2\n",
    "import numpy as np\n",
    "\n",
    "\n",
    "#image_path='test.jpg'\n",
    "img = cv2.imread('rot.jpg', cv2.IMREAD_GRAYSCALE)\n",
    "\n",
    "def compute_skew(image):\n",
    "    image = cv2.bitwise_not(image)\n",
    "    height, width = image.shape\n",
    "    # Filter removed\n",
    "    # edges = cv2.Canny(image, 150, 200, 3, 5)\n",
    "    lines = cv2.HoughLinesP(image, 1, np.pi/180, 100, minLineLength=width / 2.0, maxLineGap=20)\n",
    "    angle = 0.0\n",
    "    # lines.size gets the number of lines multiplied by 4 (number of columns)\n",
    "    # nlines = lines.size\n",
    "    # so now, I only use the number of lines\n",
    "    nlines = lines.size.shape[0]\n",
    "    # this reshape was necessary in order to convert the shape from (n_lines,1,4) to (n_lines,4)\n",
    "    lines = lines.reshape(lines.shape[0], 4)\n",
    "    # [0] removed because of the new shape\n",
    "    # for x1, y1, x2, y2 in lines[0]:\n",
    "    for x1, y1, x2, y2 in lines:\n",
    "        angle += np.arctan2(y2 - y1, x2 - x1)\n",
    "    \n",
    "    # The function cv2.getRotationMatrix2D recieves as input the\n",
    "    # angle in degrees, so I converted the return\n",
    "    # https://docs.opencv.org/2.4/modules/imgproc/doc/geometric_transformations.html#getrotationmatrix2d\n",
    "    #return angle / nlines\n",
    "    \n",
    "    angle /= nlines\n",
    "    return angle*180/np.pi\n",
    "\n",
    "\n",
    "def deskew(image, angle):\n",
    "    image = cv2.bitwise_not(image)\n",
    "    non_zero_pixels = cv2.findNonZero(image)\n",
    "    center, wh, theta = cv2.minAreaRect(non_zero_pixels)\n",
    "\n",
    "    root_mat = cv2.getRotationMatrix2D(center, angle, 1)\n",
    "    rows, cols = image.shape\n",
    "    rotated = cv2.warpAffine(image, root_mat, (cols, rows), flags=cv2.INTER_CUBIC)\n",
    "\n",
    "    return cv2.getRectSubPix(rotated, (cols, rows), center)\n",
    "\n",
    "\n",
    "\n",
    "deskewed_image = deskew(img.copy(), compute_skew(img))\n",
    "\n",
    "cv2.imshow('original', img)\n",
    "cv2.imshow('deskew', deskewed_image)"
   ]
  },
  {
   "cell_type": "code",
   "execution_count": null,
   "metadata": {},
   "outputs": [],
   "source": []
  }
 ],
 "metadata": {
  "kernelspec": {
   "display_name": "Python 3",
   "language": "python",
   "name": "python3"
  },
  "language_info": {
   "codemirror_mode": {
    "name": "ipython",
    "version": 3
   },
   "file_extension": ".py",
   "mimetype": "text/x-python",
   "name": "python",
   "nbconvert_exporter": "python",
   "pygments_lexer": "ipython3",
   "version": "3.7.1"
  }
 },
 "nbformat": 4,
 "nbformat_minor": 2
}
